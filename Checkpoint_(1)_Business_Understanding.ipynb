{
  "nbformat": 4,
  "nbformat_minor": 0,
  "metadata": {
    "colab": {
      "provenance": [],
      "authorship_tag": "ABX9TyOCTDf1TtnXwxpD33Ls8plE",
      "include_colab_link": true
    },
    "kernelspec": {
      "name": "python3",
      "display_name": "Python 3"
    },
    "language_info": {
      "name": "python"
    }
  },
  "cells": [
    {
      "cell_type": "markdown",
      "metadata": {
        "id": "view-in-github",
        "colab_type": "text"
      },
      "source": [
        "<a href=\"https://colab.research.google.com/github/dndprln/Praktikum-Data-Mining/blob/main/Checkpoint_(1)_Business_Understanding.ipynb\" target=\"_parent\"><img src=\"https://colab.research.google.com/assets/colab-badge.svg\" alt=\"Open In Colab\"/></a>"
      ]
    },
    {
      "cell_type": "markdown",
      "source": [
        "#Review Kosmetik dan Produk Kecantikan - Top Brand"
      ],
      "metadata": {
        "id": "uVSga7fIaSmJ"
      }
    },
    {
      "cell_type": "markdown",
      "source": [
        "###Business Understanding"
      ],
      "metadata": {
        "id": "lJ1OBx1Kas13"
      }
    },
    {
      "cell_type": "markdown",
      "source": [
        "####Business Objective\n",
        "\n",
        "#####Tujuan bisnis dari dataset ini adalah untuk memberikan peninjauan menyeluruh terhadap kosmetik dan produk kecantikan dari merek-merek terkemuka yaitu Nyka Cosmetics dan Kay Beauty Skincare dengan memahami review, preferensi, dan rating pembeli dari merek-merek tersebut, tujuan utamanya adalah untuk memberikan wawasan yang berguna kepada konsumen dalam memilih produk kecantikan yang sesuai dengan kebutuhan dan preferensi mereka.\n",
        "\n",
        "\n",
        "####Assess Situation\n",
        "\n",
        "#####Situasi bisnis yang mendasari analisis ini adalah permintaan yang semakin tinggi dan persaingan yang semakin sengit dalam sektor kosmetik dan produk kecantikan menandakan bahwa konsumen kini lebih selektif dalam memilih produk yang mereka gunakan. Merek-merek ternama memegang peran penting dalam membentuk tren dan standar kecantikan saat ini. Oleh karena itu, tinjauan terhadap merek-merek terkemuka menjadi sangat penting untuk memahami posisi produk dan tren yang tengah berkembang dalam industri ini.\n",
        "\n",
        "\n",
        "####Data Mining Goals\n",
        "\n",
        "#####Tujuan dari Data Mining pada Dataset ini adalah untuk mengenali arah tren produk dan preferensi konsumen yang berkaitan dengan merek-merek tersebut, mengidentifikasi pola-pola terkait kualitas produk dan tanggapan konsumen terhadap merek-merek tersebut, serta memberikan pemahaman yang berguna bagi konsumen dalam mengambil keputusan saat membeli produk.\n",
        "\n",
        "\n",
        "####Project Plan\n",
        "\n",
        "#####Rencana proyek untuk menganalisis dataset ini dimulai dengan mengumpulkan informasi produk, ulasan dan rating pembeli dari merek-merek terkemuka tersebut, kemudian menyaring dan membersihkan data untuk memastikan keakuratan, terakhir yaitu meninjau kembali semua tahapan analisis untuk memverifikasi keakuratan dan relevansi hasil. Dengan melakukan langkah-langkah ini, diharapkan dapat memberikan pemahaman yang berharga kepada konsumen dan pihak terkait lainnya tentang tren produk dan preferensi konsumen dalam industri kosmetik dan produk kecantikan."
      ],
      "metadata": {
        "id": "UULPDo1Za52S"
      }
    }
  ]
}